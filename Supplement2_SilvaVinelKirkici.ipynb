{
 "cells": [
  {
   "cell_type": "markdown",
   "metadata": {},
   "source": [
    "# Code Supplement 2 for \"On-Demand Public Transit: a Markovian Continuous Approximation Model\""
   ]
  },
  {
   "cell_type": "markdown",
   "metadata": {},
   "source": [
    "### Daniel F. Silva\n",
    "### Alexander Vinel\n",
    "### Bekircan Kirkici\n",
    "\n",
    "###### Department of Industrial and Systems Engineering, Auburn University\n",
    "\n",
    "##### silva@auburn.edu\n",
    "##### alexander.vinel@auburn.edu\n",
    "##### bekir@auburn.edu"
   ]
  },
  {
   "cell_type": "markdown",
   "metadata": {},
   "source": [
    "# Imports and Initial Globals\n",
    "\n",
    "We import required packages and give an initial value for the global parameters we use."
   ]
  },
  {
   "cell_type": "code",
   "execution_count": 2,
   "metadata": {
    "tags": [
     "import"
    ]
   },
   "outputs": [],
   "source": [
    "import numpy as np\n",
    "import pandas as pd\n",
    "from collections import Counter\n",
    "from datetime import datetime\n"
   ]
  },
  {
   "cell_type": "code",
   "execution_count": 1,
   "metadata": {},
   "outputs": [],
   "source": [
    "carN = 2 # total number of cars \n",
    "depotCap = 3 # max customers in the depot #CHANGEABLE\n",
    "carCap = 3 # max customers that can be in a car at any given time #DO NOT CHANGE\n",
    "tH = 1 # at what number, does the car start to pick up from depot.\n",
    "        # tH = 1: no wait, immediate pickup when at least 1 person is waiting\n",
    "        # tH > 1: wait until tH people are in the depot waiting, to pick up.\n",
    "\n",
    "L = 1        \n",
    "M = [0.75, 0.44830504827348755, 0.3469597134667903] #\n"
   ]
  },
  {
   "cell_type": "markdown",
   "metadata": {},
   "source": [
    "# All Functions\n",
    "\n",
    "This section holds all the functions required to run. They should be run before producing any output."
   ]
  },
  {
   "cell_type": "markdown",
   "metadata": {},
   "source": [
    "### \"active\" and \"eventspace\"\n",
    "\n",
    "_active_ : A binary function to control and show if we can move from state $s$ to $s'$, with a given event $e$.\n",
    "\n",
    "_eventspace_ : A trivial function that outputs the event space of the Markov chain, with given number of cars $U$."
   ]
  },
  {
   "cell_type": "code",
   "execution_count": 3,
   "metadata": {
    "tags": [
     "active",
     "function"
    ]
   },
   "outputs": [],
   "source": [
    "def active(e, s): #checks if a state movement is possible with the given event.   \n",
    "    if s != None:\n",
    "        #########\n",
    "        for check in range(len(s)-1):\n",
    "            if s[check] > carCap:\n",
    "                return \"car cap\"\n",
    "            elif s[len(s) - 1] > depotCap:\n",
    "                return \"depot cap\"    \n",
    "        #########\n",
    "        if s != None:\n",
    "            if e == 0:\n",
    "                for i in range(len(s)):\n",
    "                    if (s[i] == 0 or s[-1] < depotCap):\n",
    "                        return 1\n",
    "                    else:\n",
    "                        return 0\n",
    "\n",
    "            elif e > 0:\n",
    "                if 0 < s[e-1] <= carCap:\n",
    "                    return 1\n",
    "\n",
    "                elif s[e-1] == 0 and s[-1] > tH:\n",
    "                    return 1\n",
    "\n",
    "                else:\n",
    "                    return 0\n",
    "\n",
    "def eventspace(carN = 1): # create the simple eventspace list \n",
    "    EventSpace = [i for i in range(carN + 1)]\n",
    "    return EventSpace"
   ]
  },
  {
   "cell_type": "markdown",
   "metadata": {},
   "source": [
    "### \"new\"\n",
    "\n",
    "finds the first possible state to move from state $s'$, using current state $s$ with event $e$, starting from $e = 0, 1, .., U$"
   ]
  },
  {
   "cell_type": "code",
   "execution_count": 4,
   "metadata": {
    "tags": [
     "new",
     "function"
    ]
   },
   "outputs": [],
   "source": [
    "def new(e, sss): # this should return the new state\n",
    "    if sss != None:   \n",
    "    #cSet = Counter(s[0:-1]) \n",
    "    \n",
    "    #########\n",
    "        for check in range(len(sss)-1):\n",
    "            if sss[check] > carCap:\n",
    "                return \"car cap\"\n",
    "            elif sss[len(sss) - 1] > depotCap:\n",
    "                return \"depot cap\"\n",
    "    #########\n",
    "\n",
    "        s = sss.copy()\n",
    "        if e == 0: # this is Lambda, thus arrival\n",
    "            for i in range(len(s)): # we gotta check all the cars and the depot\n",
    "                if s[i] == 0: # if any car/depot is empty\n",
    "                    if s[-1]+1 >= tH: # and depot+1 (+1 from the arrival) is at least the threshold \n",
    "                        s[-1] += 1 # first add to depot \n",
    "                        pickup = min(s[-1], carCap) # then pickup immediately, we can only pick up upto carCap\n",
    "                        s[-1] -= pickup # decrease the pickup amount from the depot\n",
    "                        s[i] = pickup # add it to the car\n",
    "                        return s\n",
    "                        #break\n",
    "                    elif s[-1]+1 < tH: # if we cannot exceed the threshold amount to pickup\n",
    "                        s[-1] += 1 # first add to depot \n",
    "                        return s\n",
    "                                  \n",
    "            if s[-1] <= depotCap:\n",
    "                s[-1] += 1\n",
    "                    \n",
    "            return s\n",
    "\n",
    "        elif e > 0: #this is M; drop-off at the nth car\n",
    "            # there is no condition of a car = 0 here because this cannot happen when there is a drop-off event \n",
    "            if 0 < s[e-1] <= carCap: #if the car is not empty or above car cap,\n",
    "                if tH > s[-1] >= 0: #if there are no customers waiting or we are below the threshold amount\n",
    "                    s[e-1] = 0 #drop off the customer\n",
    "                    return s\n",
    "                elif s[-1] >= tH: #if there are more than the threshold of customers waiting\n",
    "                    pickUp = min(carCap, s[-1]) #pick up min from car capacity and pickup threshold.\n",
    "                        #if tH = carCap, then just pick all \n",
    "                    s[e-1] = pickUp #put them in the car\n",
    "                    s[-1] -= pickUp #take them out of the depot\n",
    "                    return s\n"
   ]
  },
  {
   "cell_type": "markdown",
   "metadata": {},
   "source": [
    "### \"newList\"\n",
    "\n",
    "Previously defined _new_ function is used to generate the possible transitions of a state $s$ to states $s'_j$ with a given event $e$."
   ]
  },
  {
   "cell_type": "code",
   "execution_count": 7,
   "metadata": {
    "tags": [
     "newList",
     "function",
     "list"
    ]
   },
   "outputs": [],
   "source": [
    "def newList(e, ss):\n",
    "    \n",
    "    if ss != None:\n",
    "        s = ss.copy()\n",
    "        newList_ = []\n",
    "\n",
    "        #########\n",
    "        for check in range(len(s)-1):\n",
    "            if s[check] > carCap:\n",
    "                return \"car cap\"\n",
    "            elif s[len(s) - 1] > depotCap:\n",
    "                return \"depot cap\"\n",
    "        #########\n",
    "        if e == 0: #this is Lambda, thus arrival\n",
    "            for i in range(len(s)): #we gotta check all the cars\n",
    "                if s[i] == 0: # if any car is empty\n",
    "                    if s[-1]+1 >= tH: # and depot+1 (+1 from the arrival) is at least the threshold \n",
    "                        s[-1] += 1 # add to depot \n",
    "                        pickup = min(s[-1], carCap) # then pickup immediately\n",
    "                        s[-1] -= pickup # decrease the pickup amount from the depot\n",
    "                        s[i] = pickup # add it to the car\n",
    "                        newList_.append(s)\n",
    "                        s = ss.copy()\n",
    "                        #print(\"qwe\", i, newList_)\n",
    "                        continue\n",
    "                    elif s[-1]+1 < tH:\n",
    "                        s[-1] += 1\n",
    "                        newList_.append(s)\n",
    "                        s = ss.copy()\n",
    "                        #print(\"asd\", i, newList_)\n",
    "                        return newList_\n",
    "                else:\n",
    "                    #print(\"zxc\", i, newList_)\n",
    "                    continue\n",
    "                    \n",
    "            if s[-1] <= depotCap and np.prod(s[:-1]) != 0:\n",
    "                s[-1] += 1\n",
    "                if s not in newList_:\n",
    "                    newList_.append(s)\n",
    "                #print(\"rty\", i, newList_)\n",
    "                    \n",
    "            return newList_\n",
    "\n",
    "        elif e > 0: #this is M; drop-off at the nth car\n",
    "\n",
    "            if 0 < s[e-1] <= carCap: #if the car is not empty or above car cap,\n",
    "                if tH > s[-1] >= 0: #if there are customers waiting and we are below the threshold amount\n",
    "                    s[e-1] = 0 #drop off the customer\n",
    "                    newList_.append(s)\n",
    "                    s = ss.copy()\n",
    "                    \n",
    "                elif s[-1] >= tH: #if there are more than the threshold of customers waiting\n",
    "                    pickUp = min(carCap, s[-1]) #pick up min from car capacity and pickup threshold\n",
    "                    s[e-1] = pickUp #put them in the car\n",
    "                    s[-1] -= pickUp #take them out of the depot\n",
    "                    newList_.append(s)\n",
    "                    s = ss.copy()\n",
    "            return newList_\n"
   ]
  },
  {
   "cell_type": "markdown",
   "metadata": {},
   "source": [
    "### \"rate\"\n",
    "\n",
    "Function find the rate of transition from a state $s$ with a given event $e$."
   ]
  },
  {
   "cell_type": "code",
   "execution_count": 12,
   "metadata": {},
   "outputs": [],
   "source": [
    "def rate(e, ss):\n",
    "    s = ss.copy()\n",
    "    cSet = Counter(s[:-1]) #counts the numbers in cars from 1 to n, does not consider the depot!!\n",
    "    \n",
    "    ########## \n",
    "    for check in range(len(s)-1):\n",
    "        if s[check] > carCap:\n",
    "            return \"car cap\"\n",
    "        elif s[len(s) - 1] > depotCap:\n",
    "            return \"depot cap\"\n",
    "    ##########\n",
    "    \n",
    "    \n",
    "    if e == 0: #this is Lambda\n",
    "        for i in range(len(s)):\n",
    "            if s[i] == 0:\n",
    "                if s[-1]+1 >= tH:\n",
    "                    if cSet[0] > 0:\n",
    "                        return L/cSet[0]\n",
    "                else:\n",
    "                    return L\n",
    "        \n",
    "        return L\n",
    "        \n",
    "    elif e > 0: #this is M\n",
    "        if 0 < s[e - 1] <= carCap: #this is e-1 due to e=n: car n drop-off, and last item being the depot\n",
    "            #return str(cSet[s[e-1]]) + \"M\" + str(s[e-1])\n",
    "            return M[s[e - 1]-1] #try adding all the rates together, and change the output so that its numeric.. \n",
    "        else:\n",
    "            return 0\n",
    "                \n"
   ]
  },
  {
   "cell_type": "markdown",
   "metadata": {},
   "source": [
    "### \"rateTot\"\n",
    "\n",
    "Finds the total transition rate, using function *rate*, from state $s$ to $s'$. "
   ]
  },
  {
   "cell_type": "code",
   "execution_count": 15,
   "metadata": {
    "tags": [
     "rateTot",
     "function"
    ]
   },
   "outputs": [
    {
     "data": {
      "text/plain": [
       "1"
      ]
     },
     "execution_count": 15,
     "metadata": {},
     "output_type": "execute_result"
    }
   ],
   "source": [
    "def rateTot(s1, s2):\n",
    "    \n",
    "    es = eventspace(len(s1)-1)\n",
    "    rateTotal = 0\n",
    "    \n",
    "    cSet1 = Counter(s1[:-1]) #not reaching the depot here\n",
    "    \n",
    "    while es:\n",
    "        if (s1 != None) and (s2 != None):\n",
    "            e = es.pop(0) #for e in es:\n",
    "            for ss2 in newList(e, s1):\n",
    "                if s2 == ss2:\n",
    "                    if sum(s2) - sum(s1) == 1: #and np.prod(s1[:-1])==0:\n",
    "                        rateTotal += rate(e, s1) \n",
    "                        #return 222\n",
    "                    else:\n",
    "                        rateTotal += rate(e, s1)\n",
    "                        #print(\"Asd\")\n",
    "                        #return 333\n",
    "\n",
    "            \n",
    "    return rateTotal\n"
   ]
  },
  {
   "cell_type": "markdown",
   "metadata": {},
   "source": [
    "### \"buildRS algorithm\"\n",
    "\n",
    "State-space finding algorithm uses an event space and an initial state (empty system by default) to generate the list of all possible states in the system.\n",
    "\n",
    "Ciardo, Gianfranco. \"Tools for formulating Markov models.\" Computational Probability. Springer, Boston, MA, 2000. 11-41."
   ]
  },
  {
   "cell_type": "code",
   "execution_count": 11,
   "metadata": {
    "scrolled": true,
    "tags": [
     "buildRS",
     "algorithm",
     "state-space"
    ]
   },
   "outputs": [
    {
     "data": {
      "text/plain": [
       "43"
      ]
     },
     "execution_count": 11,
     "metadata": {},
     "output_type": "execute_result"
    }
   ],
   "source": [
    "#depotCap = 3\n",
    "#tH = 1\n",
    "def buildRS(i0, EventSpace):\n",
    "\n",
    "    StateSpace = [] #states explored so far\n",
    "    toExplore = [i0] #states to explore\n",
    "    \n",
    "    while toExplore: #while there are more states to explore\n",
    "        ix = toExplore.pop() \n",
    "        StateSpace.append(ix)\n",
    "        \n",
    "        for e in EventSpace:\n",
    "            #print(e)\n",
    "            if active(e, ix): #if there is an active pass to next state\n",
    "                j = new(e, ix)\n",
    "                if j not in StateSpace+toExplore:\n",
    "                    toExplore.append(j)\n",
    "                    \n",
    "    return StateSpace\n"
   ]
  },
  {
   "cell_type": "markdown",
   "metadata": {},
   "source": [
    "### \"augment_Mat\" and \"get_steady_state\"\n",
    "\n",
    "_augment_Mat_ : is used for augmenting a square matrix, replacing the last row with a vector of ones. \n",
    "\n",
    "_get_steady_state_ : is used to linearly solve the system of equations to calculate the stationary distribution for a generator matrix. "
   ]
  },
  {
   "cell_type": "code",
   "execution_count": 18,
   "metadata": {},
   "outputs": [],
   "source": [
    "def augment_Mat(Mat):\n",
    "    dim = Mat.shape[0]\n",
    "    M = np.vstack((Mat.transpose()[:-1], np.ones(dim)))\n",
    "    b = np.vstack((np.zeros((dim - 1, 1)), [1]))\n",
    "    return M, b\n",
    "\n",
    "def get_steady_state(Mat):\n",
    "    M, b = augment_Mat(Mat)\n",
    "    return np.linalg.solve(M, b).transpose()[0]"
   ]
  },
  {
   "cell_type": "markdown",
   "metadata": {},
   "source": [
    "### Output"
   ]
  },
  {
   "cell_type": "markdown",
   "metadata": {},
   "source": [
    "#### \"iterList\"\n",
    "\n",
    "We can pre-determine the $\\lambda$s to use in our stationary distribution calculations."
   ]
  },
  {
   "cell_type": "code",
   "execution_count": 1,
   "metadata": {},
   "outputs": [
    {
     "ename": "NameError",
     "evalue": "name 'carN' is not defined",
     "output_type": "error",
     "traceback": [
      "\u001b[1;31m---------------------------------------------------------------------------\u001b[0m",
      "\u001b[1;31mNameError\u001b[0m                                 Traceback (most recent call last)",
      "\u001b[1;32m<ipython-input-1-26ef34e8b104>\u001b[0m in \u001b[0;36m<module>\u001b[1;34m\u001b[0m\n\u001b[0;32m      1\u001b[0m \u001b[0mscaled\u001b[0m \u001b[1;33m=\u001b[0m \u001b[1;36m0\u001b[0m\u001b[1;33m\u001b[0m\u001b[1;33m\u001b[0m\u001b[0m\n\u001b[1;32m----> 2\u001b[1;33m \u001b[0mscaler\u001b[0m \u001b[1;33m=\u001b[0m \u001b[0mcarN\u001b[0m\u001b[1;33m\u001b[0m\u001b[1;33m\u001b[0m\u001b[0m\n\u001b[0m\u001b[0;32m      3\u001b[0m \u001b[0miterList\u001b[0m \u001b[1;33m=\u001b[0m \u001b[1;33m[\u001b[0m\u001b[1;33m]\u001b[0m\u001b[1;33m\u001b[0m\u001b[1;33m\u001b[0m\u001b[0m\n\u001b[0;32m      4\u001b[0m \u001b[0mbas\u001b[0m \u001b[1;33m=\u001b[0m \u001b[1;36m10\u001b[0m\u001b[1;33m\u001b[0m\u001b[1;33m\u001b[0m\u001b[0m\n\u001b[0;32m      5\u001b[0m \u001b[0mex\u001b[0m \u001b[1;33m=\u001b[0m \u001b[1;36m2\u001b[0m\u001b[1;33m\u001b[0m\u001b[1;33m\u001b[0m\u001b[0m\n",
      "\u001b[1;31mNameError\u001b[0m: name 'carN' is not defined"
     ]
    }
   ],
   "source": [
    "scaled = 0\n",
    "scaler = carN\n",
    "iterList = []\n",
    "bas = 10\n",
    "ex = 2\n",
    "div = 2\n",
    "if scaled == 1:\n",
    "    for i in range(bas*ex + 1):\n",
    "        tt = i/div *scaler\n",
    "        iterList.append(tt)\n",
    "else: \n",
    "    for i in range(bas*ex + 1):\n",
    "        tt = i/div \n",
    "        iterList.append(tt)\n",
    "iterList[1:];"
   ]
  },
  {
   "cell_type": "markdown",
   "metadata": {},
   "source": [
    "#### Singular outputs\n",
    "\n",
    "Below cell generates the stationary distribution of a CTMC model for a **unique, singular** value of $\\lambda$"
   ]
  },
  {
   "cell_type": "code",
   "execution_count": 20,
   "metadata": {},
   "outputs": [],
   "source": [
    "# globals\n",
    "carN = 2 # total number of cars\n",
    "depotCap = 3 # max customers in the depot\n",
    "carCap = 3 # max customers that can be in a car at any given time\n",
    "tH = 3 # at what number, does the car start to pick up from depot.\n",
    "        # tH = 0: no wait, immediate pickup\n",
    "        # tH > 0: wait until tH people are in the depot. \n",
    "\n",
    "        \n",
    "M = [0.75, 0.44830504827348755, 0.3469597134667903] #\n",
    "L = 1 # lambda value\n",
    "stationaryDistributionList = []  \n",
    "\n",
    "\n",
    "matSize = ((carCap+1) ** carN) * (depotCap+1)\n",
    "s1 = [0 for i in range(carN + 1)] #initial state\n",
    "e1 = eventspace(carN) #event space\n",
    "g = buildRS(s1, e1)\n",
    "\n",
    "ourMat = np.zeros((len(g), len(g)))\n",
    "\n",
    "for i in range(len(g)):\n",
    "    for j in range(len(g)):\n",
    "        ourMat[i][j] = rateTot(g[i], g[j])\n",
    "\n",
    "for i in range(len(g)):\n",
    "    ourMat[i][i] -= np.sum(ourMat[i])\n",
    "\n",
    "df = pd.DataFrame(data = ourMat[0:, 0:], index = [str(i) for i in g], columns = [str(i) for i in g])\n",
    "\n",
    "#df.to_csv(r'C:\\Users\\bzk0054\\Desktop\\OneDrive - Auburn University\\research\\TS_Reviews_Edits\\edit 2\\something.csv', index = True, header=True)\n",
    "df;"
   ]
  },
  {
   "cell_type": "markdown",
   "metadata": {},
   "source": [
    "#### Multiple outputs\n",
    "\n",
    "Below cell generates the stationary distribution of a CTMC model for **multiple** values of $\\lambda$, defined within the list _iterList[1:]_"
   ]
  },
  {
   "cell_type": "code",
   "execution_count": null,
   "metadata": {
    "scrolled": true
   },
   "outputs": [
    {
     "name": "stdout",
     "output_type": "stream",
     "text": [
      "2021-03-09 11:04:25.399907\n"
     ]
    }
   ],
   "source": [
    "now = datetime.now()\n",
    "print(now)\n",
    "\n",
    "#DO NOT CHANGE\n",
    "carCap = 3 # max customers that can be in a car at any given time \n",
    "#DO NOT CHANGE\n",
    "\n",
    "# globals\n",
    "carN = 6 # total number of cars \n",
    "depotCap = 3 # max customers in the depot #CHANGEABLE\n",
    "tH = 1 # at what number, does the car start to pick up from depot.\n",
    "        # tH = 1: no wait, immediate pickup when at least 1 person is waiting\n",
    "        # tH > 1: wait until tH people are in the depot waiting, to pick up.\n",
    "        \n",
    "scaled = 1\n",
    "scaler = carN\n",
    "iterList = []\n",
    "bas = 10\n",
    "ex = 2\n",
    "div = 2\n",
    "if scaled == 1:\n",
    "    for i in range(bas*ex + 1):\n",
    "        tt = i/div *scaler\n",
    "        iterList.append(tt)\n",
    "else: \n",
    "    for i in range(bas*ex + 1):\n",
    "        tt = i/div \n",
    "        iterList.append(tt)\n",
    "        \n",
    "M = [0.75, 0.44830504827348755, 0.3469597134667903] #\n",
    "stationaryDistributionList = []   \n",
    "matSize = ((carCap+1) ** carN) * (depotCap+1)\n",
    "s1 = [0 for i in range(carN + 1)] #initial state\n",
    "e1 = eventspace(carN) #event space\n",
    "g = buildRS(s1, e1)\n",
    "\n",
    "for L in iterList[1:]:\n",
    "    ourMat = np.zeros((len(g), len(g)))\n",
    "\n",
    "    for i in range(len(g)):\n",
    "        for j in range(len(g)):\n",
    "            ourMat[i][j] = rateTot(g[i], g[j])\n",
    "\n",
    "    for i in range(len(g)):\n",
    "        ourMat[i][i] = ourMat[i][i] - np.sum(ourMat[i])\n",
    "\n",
    "    inTo = get_steady_state(ourMat)\n",
    "    stationaryDistributionList.append(inTo)\n",
    "\n",
    "df = pd.DataFrame(data = [i for i in stationaryDistributionList], index = [i for i in iterList[1:]], columns = [str(i) for i in g])\n",
    "\n",
    "if scaled == 0:\n",
    "    df.to_csv(r'stuff\\sDistList_'+str(carN)+'Cars_'+str(depotCap)+'DepotCap_'+str(tH)+'Threshold.csv', index = True, header=True)\n",
    "else:\n",
    "    df.to_csv(r'stuff\\sDistList_'+str(carN)+'Cars_'+str(depotCap)+'DepotCap_'+str(tH)+'Threshold_'+str(scaler)+'Scaled.csv', index = True, header=True)\n",
    "    \n",
    "w=[] # waiting states\n",
    "c=[] # car1 states\n",
    "\n",
    "for i in range(carCap + 1):        \n",
    "    c.append([j+1 for j, k in enumerate(g) if k[0] == i]) # car1 with i customers in, corresponding to nStatesiinCar1 in Mathematica\n",
    "\n",
    "for i in range(depotCap + 1):      \n",
    "    w.append([j+1 for j, k in enumerate(g) if k[-1] == i]) # depot with i customers in, corresponding to nStatesiWait in Mathematica\n",
    "\n",
    "for k in range(len(w)):\n",
    "    f = open(str(carN)+\"carStates_\"+str(depotCap)+\"Kap_\"+str(tH)+\"tH_\"+str(k)+\"Wait.txt\",\"w\")\n",
    "    f.write(\"\\n\".join(str(j) for j in w[k]))\n",
    "    f.close()\n",
    "\n",
    "for l in range(len(c)):\n",
    "    g = open(str(carN)+\"carStates_\"+str(depotCap)+\"Kap_\"+str(tH)+\"tH_\"+str(l)+\"Num.txt\",\"w\")\n",
    "    g.write(\"\\n\".join(str(j) for j in c[l]))\n",
    "    g.close()\n",
    "\n",
    "timing = datetime.now() - now\n",
    "print(timing)"
   ]
  }
 ],
 "metadata": {
  "kernelspec": {
   "display_name": "Python 3",
   "language": "python",
   "name": "python3"
  },
  "language_info": {
   "codemirror_mode": {
    "name": "ipython",
    "version": 3
   },
   "file_extension": ".py",
   "mimetype": "text/x-python",
   "name": "python",
   "nbconvert_exporter": "python",
   "pygments_lexer": "ipython3",
   "version": "3.8.3"
  }
 },
 "nbformat": 4,
 "nbformat_minor": 2
}
